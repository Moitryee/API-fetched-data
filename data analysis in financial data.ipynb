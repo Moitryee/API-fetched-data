{
 "cells": [
  {
   "cell_type": "code",
   "execution_count": 104,
   "id": "5e8e67a7",
   "metadata": {},
   "outputs": [],
   "source": [
    "## importing important libraries for data analysis\n",
    "import pandas as pd\n",
    "import numpy as np\n",
    "import seaborn as sns\n"
   ]
  },
  {
   "cell_type": "code",
   "execution_count": 105,
   "id": "309f2589",
   "metadata": {},
   "outputs": [
    {
     "data": {
      "text/html": [
       "<div>\n",
       "<style scoped>\n",
       "    .dataframe tbody tr th:only-of-type {\n",
       "        vertical-align: middle;\n",
       "    }\n",
       "\n",
       "    .dataframe tbody tr th {\n",
       "        vertical-align: top;\n",
       "    }\n",
       "\n",
       "    .dataframe thead th {\n",
       "        text-align: right;\n",
       "    }\n",
       "</style>\n",
       "<table border=\"1\" class=\"dataframe\">\n",
       "  <thead>\n",
       "    <tr style=\"text-align: right;\">\n",
       "      <th></th>\n",
       "      <th>Unnamed: 0</th>\n",
       "      <th>timestamp</th>\n",
       "      <th>OpenPrice</th>\n",
       "      <th>HighPrice</th>\n",
       "      <th>LowPrice</th>\n",
       "      <th>ClosePrice</th>\n",
       "      <th>Volume</th>\n",
       "    </tr>\n",
       "  </thead>\n",
       "  <tbody>\n",
       "    <tr>\n",
       "      <th>0</th>\n",
       "      <td>0</td>\n",
       "      <td>2024-01-26 19:55:00</td>\n",
       "      <td>404.100</td>\n",
       "      <td>404.150</td>\n",
       "      <td>404.000</td>\n",
       "      <td>404.030</td>\n",
       "      <td>1549</td>\n",
       "    </tr>\n",
       "    <tr>\n",
       "      <th>1</th>\n",
       "      <td>1</td>\n",
       "      <td>2024-01-26 19:50:00</td>\n",
       "      <td>403.950</td>\n",
       "      <td>404.100</td>\n",
       "      <td>403.910</td>\n",
       "      <td>404.005</td>\n",
       "      <td>552</td>\n",
       "    </tr>\n",
       "    <tr>\n",
       "      <th>2</th>\n",
       "      <td>2</td>\n",
       "      <td>2024-01-26 19:45:00</td>\n",
       "      <td>404.000</td>\n",
       "      <td>404.030</td>\n",
       "      <td>403.950</td>\n",
       "      <td>403.960</td>\n",
       "      <td>1313</td>\n",
       "    </tr>\n",
       "    <tr>\n",
       "      <th>3</th>\n",
       "      <td>3</td>\n",
       "      <td>2024-01-26 19:40:00</td>\n",
       "      <td>404.020</td>\n",
       "      <td>404.100</td>\n",
       "      <td>403.900</td>\n",
       "      <td>404.000</td>\n",
       "      <td>892</td>\n",
       "    </tr>\n",
       "    <tr>\n",
       "      <th>4</th>\n",
       "      <td>4</td>\n",
       "      <td>2024-01-26 19:35:00</td>\n",
       "      <td>404.020</td>\n",
       "      <td>404.150</td>\n",
       "      <td>403.950</td>\n",
       "      <td>404.020</td>\n",
       "      <td>243</td>\n",
       "    </tr>\n",
       "    <tr>\n",
       "      <th>...</th>\n",
       "      <td>...</td>\n",
       "      <td>...</td>\n",
       "      <td>...</td>\n",
       "      <td>...</td>\n",
       "      <td>...</td>\n",
       "      <td>...</td>\n",
       "      <td>...</td>\n",
       "    </tr>\n",
       "    <tr>\n",
       "      <th>95</th>\n",
       "      <td>95</td>\n",
       "      <td>2024-01-26 12:00:00</td>\n",
       "      <td>405.680</td>\n",
       "      <td>405.960</td>\n",
       "      <td>405.540</td>\n",
       "      <td>405.935</td>\n",
       "      <td>107289</td>\n",
       "    </tr>\n",
       "    <tr>\n",
       "      <th>96</th>\n",
       "      <td>96</td>\n",
       "      <td>2024-01-26 11:55:00</td>\n",
       "      <td>405.625</td>\n",
       "      <td>406.010</td>\n",
       "      <td>405.570</td>\n",
       "      <td>405.670</td>\n",
       "      <td>171398</td>\n",
       "    </tr>\n",
       "    <tr>\n",
       "      <th>97</th>\n",
       "      <td>97</td>\n",
       "      <td>2024-01-26 11:50:00</td>\n",
       "      <td>405.540</td>\n",
       "      <td>405.790</td>\n",
       "      <td>405.450</td>\n",
       "      <td>405.630</td>\n",
       "      <td>157393</td>\n",
       "    </tr>\n",
       "    <tr>\n",
       "      <th>98</th>\n",
       "      <td>98</td>\n",
       "      <td>2024-01-26 11:45:00</td>\n",
       "      <td>404.790</td>\n",
       "      <td>405.551</td>\n",
       "      <td>404.590</td>\n",
       "      <td>405.551</td>\n",
       "      <td>138330</td>\n",
       "    </tr>\n",
       "    <tr>\n",
       "      <th>99</th>\n",
       "      <td>99</td>\n",
       "      <td>2024-01-26 11:40:00</td>\n",
       "      <td>404.760</td>\n",
       "      <td>404.830</td>\n",
       "      <td>404.448</td>\n",
       "      <td>404.795</td>\n",
       "      <td>177353</td>\n",
       "    </tr>\n",
       "  </tbody>\n",
       "</table>\n",
       "<p>100 rows × 7 columns</p>\n",
       "</div>"
      ],
      "text/plain": [
       "    Unnamed: 0            timestamp  OpenPrice  HighPrice  LowPrice  \\\n",
       "0            0  2024-01-26 19:55:00    404.100    404.150   404.000   \n",
       "1            1  2024-01-26 19:50:00    403.950    404.100   403.910   \n",
       "2            2  2024-01-26 19:45:00    404.000    404.030   403.950   \n",
       "3            3  2024-01-26 19:40:00    404.020    404.100   403.900   \n",
       "4            4  2024-01-26 19:35:00    404.020    404.150   403.950   \n",
       "..         ...                  ...        ...        ...       ...   \n",
       "95          95  2024-01-26 12:00:00    405.680    405.960   405.540   \n",
       "96          96  2024-01-26 11:55:00    405.625    406.010   405.570   \n",
       "97          97  2024-01-26 11:50:00    405.540    405.790   405.450   \n",
       "98          98  2024-01-26 11:45:00    404.790    405.551   404.590   \n",
       "99          99  2024-01-26 11:40:00    404.760    404.830   404.448   \n",
       "\n",
       "    ClosePrice  Volume  \n",
       "0      404.030    1549  \n",
       "1      404.005     552  \n",
       "2      403.960    1313  \n",
       "3      404.000     892  \n",
       "4      404.020     243  \n",
       "..         ...     ...  \n",
       "95     405.935  107289  \n",
       "96     405.670  171398  \n",
       "97     405.630  157393  \n",
       "98     405.551  138330  \n",
       "99     404.795  177353  \n",
       "\n",
       "[100 rows x 7 columns]"
      ]
     },
     "execution_count": 105,
     "metadata": {},
     "output_type": "execute_result"
    }
   ],
   "source": [
    "data=pd.read_csv(\"financial_data.csv\")\n",
    "data"
   ]
  },
  {
   "cell_type": "markdown",
   "id": "f7716425",
   "metadata": {},
   "source": [
    "#### understanding the data\n",
    "###### data have two important feature \n",
    "1. Meta data : description of the data\n",
    "2. Time Series data (which contains the main data)\n",
    "3. this data taken from the 26 january 2024 with different time of the day.\n",
    "\n",
    "### Description of the data\n",
    "1. OpenPrice : The opening price for a stock is the price it trades immediately after the stock market opens \n",
    "2. close price :The closing price is the last price at which a security traded during the regular trading day.\n",
    "3. low price: lowest price reported in troughout the day\n",
    "4. high price : highest price reported in throughout the day\n",
    "5. volume : total stocks sells on that specific time and date"
   ]
  },
  {
   "cell_type": "code",
   "execution_count": 106,
   "id": "2e4ca183",
   "metadata": {},
   "outputs": [],
   "source": [
    "## deleting the unnamed :0 (because it is useless for data analysis)\n",
    "data = data.drop('Unnamed: 0', axis=1)"
   ]
  },
  {
   "cell_type": "code",
   "execution_count": 107,
   "id": "b4c548a6",
   "metadata": {},
   "outputs": [
    {
     "data": {
      "text/html": [
       "<div>\n",
       "<style scoped>\n",
       "    .dataframe tbody tr th:only-of-type {\n",
       "        vertical-align: middle;\n",
       "    }\n",
       "\n",
       "    .dataframe tbody tr th {\n",
       "        vertical-align: top;\n",
       "    }\n",
       "\n",
       "    .dataframe thead th {\n",
       "        text-align: right;\n",
       "    }\n",
       "</style>\n",
       "<table border=\"1\" class=\"dataframe\">\n",
       "  <thead>\n",
       "    <tr style=\"text-align: right;\">\n",
       "      <th></th>\n",
       "      <th>timestamp</th>\n",
       "      <th>OpenPrice</th>\n",
       "      <th>HighPrice</th>\n",
       "      <th>LowPrice</th>\n",
       "      <th>ClosePrice</th>\n",
       "      <th>Volume</th>\n",
       "    </tr>\n",
       "  </thead>\n",
       "  <tbody>\n",
       "    <tr>\n",
       "      <th>0</th>\n",
       "      <td>2024-01-26 19:55:00</td>\n",
       "      <td>404.100</td>\n",
       "      <td>404.150</td>\n",
       "      <td>404.000</td>\n",
       "      <td>404.030</td>\n",
       "      <td>1549</td>\n",
       "    </tr>\n",
       "    <tr>\n",
       "      <th>1</th>\n",
       "      <td>2024-01-26 19:50:00</td>\n",
       "      <td>403.950</td>\n",
       "      <td>404.100</td>\n",
       "      <td>403.910</td>\n",
       "      <td>404.005</td>\n",
       "      <td>552</td>\n",
       "    </tr>\n",
       "    <tr>\n",
       "      <th>2</th>\n",
       "      <td>2024-01-26 19:45:00</td>\n",
       "      <td>404.000</td>\n",
       "      <td>404.030</td>\n",
       "      <td>403.950</td>\n",
       "      <td>403.960</td>\n",
       "      <td>1313</td>\n",
       "    </tr>\n",
       "    <tr>\n",
       "      <th>3</th>\n",
       "      <td>2024-01-26 19:40:00</td>\n",
       "      <td>404.020</td>\n",
       "      <td>404.100</td>\n",
       "      <td>403.900</td>\n",
       "      <td>404.000</td>\n",
       "      <td>892</td>\n",
       "    </tr>\n",
       "    <tr>\n",
       "      <th>4</th>\n",
       "      <td>2024-01-26 19:35:00</td>\n",
       "      <td>404.020</td>\n",
       "      <td>404.150</td>\n",
       "      <td>403.950</td>\n",
       "      <td>404.020</td>\n",
       "      <td>243</td>\n",
       "    </tr>\n",
       "    <tr>\n",
       "      <th>...</th>\n",
       "      <td>...</td>\n",
       "      <td>...</td>\n",
       "      <td>...</td>\n",
       "      <td>...</td>\n",
       "      <td>...</td>\n",
       "      <td>...</td>\n",
       "    </tr>\n",
       "    <tr>\n",
       "      <th>95</th>\n",
       "      <td>2024-01-26 12:00:00</td>\n",
       "      <td>405.680</td>\n",
       "      <td>405.960</td>\n",
       "      <td>405.540</td>\n",
       "      <td>405.935</td>\n",
       "      <td>107289</td>\n",
       "    </tr>\n",
       "    <tr>\n",
       "      <th>96</th>\n",
       "      <td>2024-01-26 11:55:00</td>\n",
       "      <td>405.625</td>\n",
       "      <td>406.010</td>\n",
       "      <td>405.570</td>\n",
       "      <td>405.670</td>\n",
       "      <td>171398</td>\n",
       "    </tr>\n",
       "    <tr>\n",
       "      <th>97</th>\n",
       "      <td>2024-01-26 11:50:00</td>\n",
       "      <td>405.540</td>\n",
       "      <td>405.790</td>\n",
       "      <td>405.450</td>\n",
       "      <td>405.630</td>\n",
       "      <td>157393</td>\n",
       "    </tr>\n",
       "    <tr>\n",
       "      <th>98</th>\n",
       "      <td>2024-01-26 11:45:00</td>\n",
       "      <td>404.790</td>\n",
       "      <td>405.551</td>\n",
       "      <td>404.590</td>\n",
       "      <td>405.551</td>\n",
       "      <td>138330</td>\n",
       "    </tr>\n",
       "    <tr>\n",
       "      <th>99</th>\n",
       "      <td>2024-01-26 11:40:00</td>\n",
       "      <td>404.760</td>\n",
       "      <td>404.830</td>\n",
       "      <td>404.448</td>\n",
       "      <td>404.795</td>\n",
       "      <td>177353</td>\n",
       "    </tr>\n",
       "  </tbody>\n",
       "</table>\n",
       "<p>100 rows × 6 columns</p>\n",
       "</div>"
      ],
      "text/plain": [
       "              timestamp  OpenPrice  HighPrice  LowPrice  ClosePrice  Volume\n",
       "0   2024-01-26 19:55:00    404.100    404.150   404.000     404.030    1549\n",
       "1   2024-01-26 19:50:00    403.950    404.100   403.910     404.005     552\n",
       "2   2024-01-26 19:45:00    404.000    404.030   403.950     403.960    1313\n",
       "3   2024-01-26 19:40:00    404.020    404.100   403.900     404.000     892\n",
       "4   2024-01-26 19:35:00    404.020    404.150   403.950     404.020     243\n",
       "..                  ...        ...        ...       ...         ...     ...\n",
       "95  2024-01-26 12:00:00    405.680    405.960   405.540     405.935  107289\n",
       "96  2024-01-26 11:55:00    405.625    406.010   405.570     405.670  171398\n",
       "97  2024-01-26 11:50:00    405.540    405.790   405.450     405.630  157393\n",
       "98  2024-01-26 11:45:00    404.790    405.551   404.590     405.551  138330\n",
       "99  2024-01-26 11:40:00    404.760    404.830   404.448     404.795  177353\n",
       "\n",
       "[100 rows x 6 columns]"
      ]
     },
     "execution_count": 107,
     "metadata": {},
     "output_type": "execute_result"
    }
   ],
   "source": [
    "data"
   ]
  },
  {
   "cell_type": "code",
   "execution_count": 108,
   "id": "9d18243f",
   "metadata": {},
   "outputs": [
    {
     "name": "stdout",
     "output_type": "stream",
     "text": [
      "<class 'pandas.core.frame.DataFrame'>\n",
      "RangeIndex: 100 entries, 0 to 99\n",
      "Data columns (total 6 columns):\n",
      " #   Column      Non-Null Count  Dtype  \n",
      "---  ------      --------------  -----  \n",
      " 0   timestamp   100 non-null    object \n",
      " 1   OpenPrice   100 non-null    float64\n",
      " 2   HighPrice   100 non-null    float64\n",
      " 3   LowPrice    100 non-null    float64\n",
      " 4   ClosePrice  100 non-null    float64\n",
      " 5   Volume      100 non-null    int64  \n",
      "dtypes: float64(4), int64(1), object(1)\n",
      "memory usage: 4.8+ KB\n"
     ]
    }
   ],
   "source": [
    "data.info()"
   ]
  },
  {
   "cell_type": "markdown",
   "id": "fd3aeb9d",
   "metadata": {},
   "source": [
    "# Data Assessing\n",
    "## dirty data\n",
    "1. there is no null values\n",
    "2. there is no duplicated values\n",
    "3. there can be outlier in volume column.\n"
   ]
  },
  {
   "cell_type": "code",
   "execution_count": 109,
   "id": "19946278",
   "metadata": {},
   "outputs": [
    {
     "data": {
      "text/plain": [
       "0"
      ]
     },
     "execution_count": 109,
     "metadata": {},
     "output_type": "execute_result"
    }
   ],
   "source": [
    "data.duplicated().sum()"
   ]
  },
  {
   "cell_type": "code",
   "execution_count": 110,
   "id": "a8c8eebe",
   "metadata": {},
   "outputs": [
    {
     "data": {
      "text/html": [
       "<div>\n",
       "<style scoped>\n",
       "    .dataframe tbody tr th:only-of-type {\n",
       "        vertical-align: middle;\n",
       "    }\n",
       "\n",
       "    .dataframe tbody tr th {\n",
       "        vertical-align: top;\n",
       "    }\n",
       "\n",
       "    .dataframe thead th {\n",
       "        text-align: right;\n",
       "    }\n",
       "</style>\n",
       "<table border=\"1\" class=\"dataframe\">\n",
       "  <thead>\n",
       "    <tr style=\"text-align: right;\">\n",
       "      <th></th>\n",
       "      <th>OpenPrice</th>\n",
       "      <th>HighPrice</th>\n",
       "      <th>LowPrice</th>\n",
       "      <th>ClosePrice</th>\n",
       "      <th>Volume</th>\n",
       "    </tr>\n",
       "  </thead>\n",
       "  <tbody>\n",
       "    <tr>\n",
       "      <th>count</th>\n",
       "      <td>100.000000</td>\n",
       "      <td>100.000000</td>\n",
       "      <td>100.000000</td>\n",
       "      <td>100.000000</td>\n",
       "      <td>1.000000e+02</td>\n",
       "    </tr>\n",
       "    <tr>\n",
       "      <th>mean</th>\n",
       "      <td>403.845310</td>\n",
       "      <td>404.054240</td>\n",
       "      <td>403.616940</td>\n",
       "      <td>403.831820</td>\n",
       "      <td>1.461000e+05</td>\n",
       "    </tr>\n",
       "    <tr>\n",
       "      <th>std</th>\n",
       "      <td>0.688284</td>\n",
       "      <td>0.738436</td>\n",
       "      <td>0.856504</td>\n",
       "      <td>0.686467</td>\n",
       "      <td>6.588408e+05</td>\n",
       "    </tr>\n",
       "    <tr>\n",
       "      <th>min</th>\n",
       "      <td>402.534000</td>\n",
       "      <td>402.820000</td>\n",
       "      <td>398.511000</td>\n",
       "      <td>402.510000</td>\n",
       "      <td>1.480000e+02</td>\n",
       "    </tr>\n",
       "    <tr>\n",
       "      <th>25%</th>\n",
       "      <td>403.397500</td>\n",
       "      <td>403.675000</td>\n",
       "      <td>403.147500</td>\n",
       "      <td>403.415000</td>\n",
       "      <td>1.283000e+03</td>\n",
       "    </tr>\n",
       "    <tr>\n",
       "      <th>50%</th>\n",
       "      <td>403.745000</td>\n",
       "      <td>403.927500</td>\n",
       "      <td>403.555000</td>\n",
       "      <td>403.720000</td>\n",
       "      <td>8.397550e+04</td>\n",
       "    </tr>\n",
       "    <tr>\n",
       "      <th>75%</th>\n",
       "      <td>404.020000</td>\n",
       "      <td>404.135000</td>\n",
       "      <td>403.930000</td>\n",
       "      <td>404.001250</td>\n",
       "      <td>1.284842e+05</td>\n",
       "    </tr>\n",
       "    <tr>\n",
       "      <th>max</th>\n",
       "      <td>405.945000</td>\n",
       "      <td>406.695000</td>\n",
       "      <td>405.720000</td>\n",
       "      <td>405.935000</td>\n",
       "      <td>6.572637e+06</td>\n",
       "    </tr>\n",
       "  </tbody>\n",
       "</table>\n",
       "</div>"
      ],
      "text/plain": [
       "        OpenPrice   HighPrice    LowPrice  ClosePrice        Volume\n",
       "count  100.000000  100.000000  100.000000  100.000000  1.000000e+02\n",
       "mean   403.845310  404.054240  403.616940  403.831820  1.461000e+05\n",
       "std      0.688284    0.738436    0.856504    0.686467  6.588408e+05\n",
       "min    402.534000  402.820000  398.511000  402.510000  1.480000e+02\n",
       "25%    403.397500  403.675000  403.147500  403.415000  1.283000e+03\n",
       "50%    403.745000  403.927500  403.555000  403.720000  8.397550e+04\n",
       "75%    404.020000  404.135000  403.930000  404.001250  1.284842e+05\n",
       "max    405.945000  406.695000  405.720000  405.935000  6.572637e+06"
      ]
     },
     "execution_count": 110,
     "metadata": {},
     "output_type": "execute_result"
    }
   ],
   "source": [
    "data.describe()"
   ]
  },
  {
   "cell_type": "code",
   "execution_count": 111,
   "id": "ab613f0c",
   "metadata": {},
   "outputs": [],
   "source": [
    "## I have to separate the date time colume into date and time\n",
    "data['date'] = pd.to_datetime(data['timestamp']).dt.date\n",
    "data['time'] = pd.to_datetime(data['timestamp']).dt.time"
   ]
  },
  {
   "cell_type": "code",
   "execution_count": 112,
   "id": "eea455a5",
   "metadata": {},
   "outputs": [],
   "source": [
    "data=data.drop({'timestamp', \"date\"}, axis=1) "
   ]
  },
  {
   "cell_type": "code",
   "execution_count": 113,
   "id": "b777487c",
   "metadata": {},
   "outputs": [
    {
     "name": "stdout",
     "output_type": "stream",
     "text": [
      "<class 'pandas.core.frame.DataFrame'>\n",
      "RangeIndex: 100 entries, 0 to 99\n",
      "Data columns (total 6 columns):\n",
      " #   Column      Non-Null Count  Dtype  \n",
      "---  ------      --------------  -----  \n",
      " 0   OpenPrice   100 non-null    float64\n",
      " 1   HighPrice   100 non-null    float64\n",
      " 2   LowPrice    100 non-null    float64\n",
      " 3   ClosePrice  100 non-null    float64\n",
      " 4   Volume      100 non-null    int64  \n",
      " 5   time        100 non-null    object \n",
      "dtypes: float64(4), int64(1), object(1)\n",
      "memory usage: 4.8+ KB\n"
     ]
    }
   ],
   "source": [
    "data.info()"
   ]
  },
  {
   "cell_type": "code",
   "execution_count": 114,
   "id": "949597ad",
   "metadata": {},
   "outputs": [
    {
     "data": {
      "text/html": [
       "<div>\n",
       "<style scoped>\n",
       "    .dataframe tbody tr th:only-of-type {\n",
       "        vertical-align: middle;\n",
       "    }\n",
       "\n",
       "    .dataframe tbody tr th {\n",
       "        vertical-align: top;\n",
       "    }\n",
       "\n",
       "    .dataframe thead th {\n",
       "        text-align: right;\n",
       "    }\n",
       "</style>\n",
       "<table border=\"1\" class=\"dataframe\">\n",
       "  <thead>\n",
       "    <tr style=\"text-align: right;\">\n",
       "      <th></th>\n",
       "      <th>OpenPrice</th>\n",
       "      <th>HighPrice</th>\n",
       "      <th>LowPrice</th>\n",
       "      <th>ClosePrice</th>\n",
       "      <th>Volume</th>\n",
       "      <th>time</th>\n",
       "    </tr>\n",
       "  </thead>\n",
       "  <tbody>\n",
       "    <tr>\n",
       "      <th>0</th>\n",
       "      <td>404.100</td>\n",
       "      <td>404.150</td>\n",
       "      <td>404.000</td>\n",
       "      <td>404.030</td>\n",
       "      <td>1549</td>\n",
       "      <td>19:55:00</td>\n",
       "    </tr>\n",
       "    <tr>\n",
       "      <th>1</th>\n",
       "      <td>403.950</td>\n",
       "      <td>404.100</td>\n",
       "      <td>403.910</td>\n",
       "      <td>404.005</td>\n",
       "      <td>552</td>\n",
       "      <td>19:50:00</td>\n",
       "    </tr>\n",
       "    <tr>\n",
       "      <th>2</th>\n",
       "      <td>404.000</td>\n",
       "      <td>404.030</td>\n",
       "      <td>403.950</td>\n",
       "      <td>403.960</td>\n",
       "      <td>1313</td>\n",
       "      <td>19:45:00</td>\n",
       "    </tr>\n",
       "    <tr>\n",
       "      <th>3</th>\n",
       "      <td>404.020</td>\n",
       "      <td>404.100</td>\n",
       "      <td>403.900</td>\n",
       "      <td>404.000</td>\n",
       "      <td>892</td>\n",
       "      <td>19:40:00</td>\n",
       "    </tr>\n",
       "    <tr>\n",
       "      <th>4</th>\n",
       "      <td>404.020</td>\n",
       "      <td>404.150</td>\n",
       "      <td>403.950</td>\n",
       "      <td>404.020</td>\n",
       "      <td>243</td>\n",
       "      <td>19:35:00</td>\n",
       "    </tr>\n",
       "    <tr>\n",
       "      <th>...</th>\n",
       "      <td>...</td>\n",
       "      <td>...</td>\n",
       "      <td>...</td>\n",
       "      <td>...</td>\n",
       "      <td>...</td>\n",
       "      <td>...</td>\n",
       "    </tr>\n",
       "    <tr>\n",
       "      <th>95</th>\n",
       "      <td>405.680</td>\n",
       "      <td>405.960</td>\n",
       "      <td>405.540</td>\n",
       "      <td>405.935</td>\n",
       "      <td>107289</td>\n",
       "      <td>12:00:00</td>\n",
       "    </tr>\n",
       "    <tr>\n",
       "      <th>96</th>\n",
       "      <td>405.625</td>\n",
       "      <td>406.010</td>\n",
       "      <td>405.570</td>\n",
       "      <td>405.670</td>\n",
       "      <td>171398</td>\n",
       "      <td>11:55:00</td>\n",
       "    </tr>\n",
       "    <tr>\n",
       "      <th>97</th>\n",
       "      <td>405.540</td>\n",
       "      <td>405.790</td>\n",
       "      <td>405.450</td>\n",
       "      <td>405.630</td>\n",
       "      <td>157393</td>\n",
       "      <td>11:50:00</td>\n",
       "    </tr>\n",
       "    <tr>\n",
       "      <th>98</th>\n",
       "      <td>404.790</td>\n",
       "      <td>405.551</td>\n",
       "      <td>404.590</td>\n",
       "      <td>405.551</td>\n",
       "      <td>138330</td>\n",
       "      <td>11:45:00</td>\n",
       "    </tr>\n",
       "    <tr>\n",
       "      <th>99</th>\n",
       "      <td>404.760</td>\n",
       "      <td>404.830</td>\n",
       "      <td>404.448</td>\n",
       "      <td>404.795</td>\n",
       "      <td>177353</td>\n",
       "      <td>11:40:00</td>\n",
       "    </tr>\n",
       "  </tbody>\n",
       "</table>\n",
       "<p>100 rows × 6 columns</p>\n",
       "</div>"
      ],
      "text/plain": [
       "    OpenPrice  HighPrice  LowPrice  ClosePrice  Volume      time\n",
       "0     404.100    404.150   404.000     404.030    1549  19:55:00\n",
       "1     403.950    404.100   403.910     404.005     552  19:50:00\n",
       "2     404.000    404.030   403.950     403.960    1313  19:45:00\n",
       "3     404.020    404.100   403.900     404.000     892  19:40:00\n",
       "4     404.020    404.150   403.950     404.020     243  19:35:00\n",
       "..        ...        ...       ...         ...     ...       ...\n",
       "95    405.680    405.960   405.540     405.935  107289  12:00:00\n",
       "96    405.625    406.010   405.570     405.670  171398  11:55:00\n",
       "97    405.540    405.790   405.450     405.630  157393  11:50:00\n",
       "98    404.790    405.551   404.590     405.551  138330  11:45:00\n",
       "99    404.760    404.830   404.448     404.795  177353  11:40:00\n",
       "\n",
       "[100 rows x 6 columns]"
      ]
     },
     "execution_count": 114,
     "metadata": {},
     "output_type": "execute_result"
    }
   ],
   "source": [
    "data\n"
   ]
  },
  {
   "cell_type": "code",
   "execution_count": 115,
   "id": "31cc9622",
   "metadata": {},
   "outputs": [
    {
     "name": "stderr",
     "output_type": "stream",
     "text": [
      "C:\\Users\\MOITRYEE\\AppData\\Local\\anaconda3\\python\\lib\\site-packages\\seaborn\\_oldcore.py:1119: FutureWarning: use_inf_as_na option is deprecated and will be removed in a future version. Convert inf values to NaN before operating instead.\n",
      "  with pd.option_context('mode.use_inf_as_na', True):\n"
     ]
    },
    {
     "data": {
      "text/plain": [
       "<Axes: xlabel='OpenPrice', ylabel='Count'>"
      ]
     },
     "execution_count": 115,
     "metadata": {},
     "output_type": "execute_result"
    },
    {
     "data": {
      "image/png": "[encoded data removed]",
      "text/plain": [
       "<Figure size 640x480 with 1 Axes>"
      ]
     },
     "metadata": {},
     "output_type": "display_data"
    }
   ],
   "source": [
    "#univariate analysis\n",
    "sns.histplot(x=\"OpenPrice\", data=data, kde= True )\n",
    "## several time a week open price is 404.0 it is around 30 times"
   ]
  },
  {
   "cell_type": "code",
   "execution_count": 116,
   "id": "1896fd36",
   "metadata": {},
   "outputs": [
    {
     "name": "stderr",
     "output_type": "stream",
     "text": [
      "C:\\Users\\MOITRYEE\\AppData\\Local\\anaconda3\\python\\lib\\site-packages\\seaborn\\_oldcore.py:1119: FutureWarning: use_inf_as_na option is deprecated and will be removed in a future version. Convert inf values to NaN before operating instead.\n",
      "  with pd.option_context('mode.use_inf_as_na', True):\n"
     ]
    },
    {
     "data": {
      "text/plain": [
       "<Axes: xlabel='HighPrice', ylabel='Count'>"
      ]
     },
     "execution_count": 116,
     "metadata": {},
     "output_type": "execute_result"
    },
    {
     "data": {
      "image/png": "[encoded data removed]",
      "text/plain": [
       "<Figure size 640x480 with 1 Axes>"
      ]
     },
     "metadata": {},
     "output_type": "display_data"
    }
   ],
   "source": [
    "sns.histplot(x='HighPrice', color=\"red\" , data=data)\n",
    "## high price is of range 404.0- 404.5 which came majority of the time in the day"
   ]
  },
  {
   "cell_type": "code",
   "execution_count": 117,
   "id": "7d37fa54",
   "metadata": {},
   "outputs": [
    {
     "data": {
      "text/plain": [
       "Index(['OpenPrice', 'HighPrice', 'LowPrice', 'ClosePrice', 'Volume', 'time'], dtype='object')"
      ]
     },
     "execution_count": 117,
     "metadata": {},
     "output_type": "execute_result"
    }
   ],
   "source": [
    "data.columns"
   ]
  },
  {
   "cell_type": "code",
   "execution_count": 118,
   "id": "32a47b25",
   "metadata": {},
   "outputs": [
    {
     "name": "stderr",
     "output_type": "stream",
     "text": [
      "C:\\Users\\MOITRYEE\\AppData\\Local\\anaconda3\\python\\lib\\site-packages\\seaborn\\_oldcore.py:1119: FutureWarning: use_inf_as_na option is deprecated and will be removed in a future version. Convert inf values to NaN before operating instead.\n",
      "  with pd.option_context('mode.use_inf_as_na', True):\n"
     ]
    },
    {
     "data": {
      "text/plain": [
       "<seaborn.axisgrid.FacetGrid at 0x19ee640b4f0>"
      ]
     },
     "execution_count": 118,
     "metadata": {},
     "output_type": "execute_result"
    },
    {
     "data": {
      "image/png": "[encoded data removed]",
      "text/plain": [
       "<Figure size 500x500 with 1 Axes>"
      ]
     },
     "metadata": {},
     "output_type": "display_data"
    }
   ],
   "source": [
    "sns.displot(x='ClosePrice', color=\"green\" , data=data)\n",
    "# the close price is between the 403 - 404"
   ]
  },
  {
   "cell_type": "code",
   "execution_count": 119,
   "id": "912801fb",
   "metadata": {},
   "outputs": [
    {
     "data": {
      "text/plain": [
       "<Axes: xlabel='OpenPrice', ylabel='HighPrice'>"
      ]
     },
     "execution_count": 119,
     "metadata": {},
     "output_type": "execute_result"
    },
    {
     "data": {
      "image/png": "[encoded data removed]",
      "text/plain": [
       "<Figure size 640x480 with 1 Axes>"
      ]
     },
     "metadata": {},
     "output_type": "display_data"
    }
   ],
   "source": [
    "## bivariate analysis\n",
    "## numerical - numerical column\n",
    "sns.scatterplot(x=\"OpenPrice\", y= 'HighPrice', data=data)\n",
    "## there is positive correlation ovarall and it is densily populated in the 403.3- 404.5 "
   ]
  },
  {
   "cell_type": "code",
   "execution_count": 120,
   "id": "6ddbd361",
   "metadata": {},
   "outputs": [
    {
     "data": {
      "text/plain": [
       "<seaborn.axisgrid.FacetGrid at 0x19ee6475e40>"
      ]
     },
     "execution_count": 120,
     "metadata": {},
     "output_type": "execute_result"
    },
    {
     "data": {
      "image/png": "[encoded data removed]",
      "text/plain": [
       "<Figure size 500x500 with 1 Axes>"
      ]
     },
     "metadata": {},
     "output_type": "display_data"
    }
   ],
   "source": [
    "sns.relplot(x=\"OpenPrice\", y=\"ClosePrice\" , data = data, color = \"green\")"
   ]
  },
  {
   "cell_type": "code",
   "execution_count": 121,
   "id": "ae07b9e9",
   "metadata": {},
   "outputs": [
    {
     "data": {
      "text/plain": [
       "Index(['OpenPrice', 'HighPrice', 'LowPrice', 'ClosePrice', 'Volume', 'time'], dtype='object')"
      ]
     },
     "execution_count": 121,
     "metadata": {},
     "output_type": "execute_result"
    }
   ],
   "source": [
    "data.columns"
   ]
  },
  {
   "cell_type": "code",
   "execution_count": 122,
   "id": "f1fc2aec",
   "metadata": {},
   "outputs": [
    {
     "data": {
      "text/plain": [
       "<seaborn.axisgrid.FacetGrid at 0x19ee648cd90>"
      ]
     },
     "execution_count": 122,
     "metadata": {},
     "output_type": "execute_result"
    },
    {
     "data": {
      "image/png": "[encoded data removed]",
      "text/plain": [
       "<Figure size 500x500 with 1 Axes>"
      ]
     },
     "metadata": {},
     "output_type": "display_data"
    }
   ],
   "source": [
    "sns.relplot(x=\"OpenPrice\", y=\"LowPrice\",data=data, kind = \"scatter\")\n",
    "## there is a positive relationship between the two features "
   ]
  },
  {
   "cell_type": "code",
   "execution_count": 123,
   "id": "17bbee14",
   "metadata": {},
   "outputs": [
    {
     "data": {
      "text/plain": [
       "83975.5"
      ]
     },
     "execution_count": 123,
     "metadata": {},
     "output_type": "execute_result"
    }
   ],
   "source": [
    "data[\"Volume\"].median()"
   ]
  },
  {
   "cell_type": "code",
   "execution_count": 124,
   "id": "cc7acec6",
   "metadata": {},
   "outputs": [
    {
     "data": {
      "text/plain": [
       "Index(['OpenPrice', 'HighPrice', 'LowPrice', 'ClosePrice', 'Volume', 'time'], dtype='object')"
      ]
     },
     "execution_count": 124,
     "metadata": {},
     "output_type": "execute_result"
    }
   ],
   "source": [
    "data.columns"
   ]
  },
  {
   "cell_type": "markdown",
   "id": "1eb21efe",
   "metadata": {},
   "source": [
    "## we are making catagories of the volume columns for better analysis\n",
    "### here we are considering catagories columns as dependent or target column\n"
   ]
  },
  {
   "cell_type": "code",
   "execution_count": 125,
   "id": "aa30fe6a",
   "metadata": {},
   "outputs": [
    {
     "name": "stdout",
     "output_type": "stream",
     "text": [
      "    OpenPrice  HighPrice  LowPrice  ClosePrice  Volume      time    category\n",
      "0     404.100    404.150   404.000     404.030    1549  19:55:00  Medium Low\n",
      "1     403.950    404.100   403.910     404.005     552  19:50:00  Medium Low\n",
      "2     404.000    404.030   403.950     403.960    1313  19:45:00  Medium Low\n",
      "3     404.020    404.100   403.900     404.000     892  19:40:00  Medium Low\n",
      "4     404.020    404.150   403.950     404.020     243  19:35:00  Medium Low\n",
      "..        ...        ...       ...         ...     ...       ...         ...\n",
      "95    405.680    405.960   405.540     405.935  107289  12:00:00    VeryHigh\n",
      "96    405.625    406.010   405.570     405.670  171398  11:55:00    VeryHigh\n",
      "97    405.540    405.790   405.450     405.630  157393  11:50:00    VeryHigh\n",
      "98    404.790    405.551   404.590     405.551  138330  11:45:00    VeryHigh\n",
      "99    404.760    404.830   404.448     404.795  177353  11:40:00    VeryHigh\n",
      "\n",
      "[100 rows x 7 columns]\n"
     ]
    }
   ],
   "source": [
    "# Define category boundaries (example)\n",
    "bins = [0, 100, 10000, 20000, 100000, 300000]\n",
    "category_labels = ['Low', 'Medium Low', 'Medium High', 'High', \"VeryHigh\"]\n",
    "\n",
    "# Create categories using pd.cut\n",
    "data['category'] = pd.cut(data['Volume'], bins, labels=category_labels)\n",
    "\n",
    "print(data)\n"
   ]
  },
  {
   "cell_type": "code",
   "execution_count": 126,
   "id": "2d23b8b0",
   "metadata": {},
   "outputs": [
    {
     "name": "stderr",
     "output_type": "stream",
     "text": [
      "C:\\Users\\MOITRYEE\\AppData\\Local\\anaconda3\\python\\lib\\site-packages\\seaborn\\categorical.py:641: FutureWarning: The default of observed=False is deprecated and will be changed to True in a future version of pandas. Pass observed=False to retain current behavior or observed=True to adopt the future default and silence this warning.\n",
      "  grouped_vals = vals.groupby(grouper)\n"
     ]
    },
    {
     "data": {
      "text/plain": [
       "<Axes: xlabel='category', ylabel='count'>"
      ]
     },
     "execution_count": 126,
     "metadata": {},
     "output_type": "execute_result"
    },
    {
     "data": {
      "image/png": "[encoded data removed]",
      "text/plain": [
       "<Figure size 640x480 with 1 Axes>"
      ]
     },
     "metadata": {},
     "output_type": "display_data"
    }
   ],
   "source": [
    "sns.countplot(data=data, x=\"category\")\n",
    "## mainly we can see that medium low and very high volumns are majority in counts \n",
    "# mainly in range (100-10000 and 100000-300000)"
   ]
  },
  {
   "cell_type": "code",
   "execution_count": 127,
   "id": "fc4d42da",
   "metadata": {},
   "outputs": [
    {
     "data": {
      "text/plain": [
       "Index(['OpenPrice', 'HighPrice', 'LowPrice', 'ClosePrice', 'Volume', 'time',\n",
       "       'category'],\n",
       "      dtype='object')"
      ]
     },
     "execution_count": 127,
     "metadata": {},
     "output_type": "execute_result"
    }
   ],
   "source": [
    "data.columns"
   ]
  },
  {
   "cell_type": "code",
   "execution_count": 128,
   "id": "8f59d3e6",
   "metadata": {},
   "outputs": [],
   "source": [
    "#deleting because we have creating the category out of it and there is no use of volume column\n",
    "data.drop(\"Volume\", axis=1, inplace = True)\n",
    "data.drop(\"time\", axis=1, inplace=True)"
   ]
  },
  {
   "cell_type": "code",
   "execution_count": 129,
   "id": "2ccc8bec",
   "metadata": {},
   "outputs": [
    {
     "name": "stderr",
     "output_type": "stream",
     "text": [
      "C:\\Users\\MOITRYEE\\AppData\\Local\\anaconda3\\python\\lib\\site-packages\\seaborn\\_oldcore.py:1119: FutureWarning: use_inf_as_na option is deprecated and will be removed in a future version. Convert inf values to NaN before operating instead.\n",
      "  with pd.option_context('mode.use_inf_as_na', True):\n",
      "C:\\Users\\MOITRYEE\\AppData\\Local\\anaconda3\\python\\lib\\site-packages\\seaborn\\_oldcore.py:1119: FutureWarning: use_inf_as_na option is deprecated and will be removed in a future version. Convert inf values to NaN before operating instead.\n",
      "  with pd.option_context('mode.use_inf_as_na', True):\n"
     ]
    },
    {
     "data": {
      "text/plain": [
       "<Axes: xlabel='category', ylabel='OpenPrice'>"
      ]
     },
     "execution_count": 129,
     "metadata": {},
     "output_type": "execute_result"
    },
    {
     "data": {
      "image/png": "[encoded data removed]",
      "text/plain": [
       "<Figure size 640x480 with 1 Axes>"
      ]
     },
     "metadata": {},
     "output_type": "display_data"
    }
   ],
   "source": [
    "sns.stripplot(y=\"OpenPrice\", x=\"category\",data=data,size=8, color= \"red\")\n",
    "#all most at all open prices very high that is ranges of 100000-300000 have been bought"
   ]
  },
  {
   "cell_type": "code",
   "execution_count": 130,
   "id": "beaadebc",
   "metadata": {},
   "outputs": [
    {
     "name": "stderr",
     "output_type": "stream",
     "text": [
      "C:\\Users\\MOITRYEE\\AppData\\Local\\anaconda3\\python\\lib\\site-packages\\seaborn\\_oldcore.py:1119: FutureWarning: use_inf_as_na option is deprecated and will be removed in a future version. Convert inf values to NaN before operating instead.\n",
      "  with pd.option_context('mode.use_inf_as_na', True):\n",
      "C:\\Users\\MOITRYEE\\AppData\\Local\\anaconda3\\python\\lib\\site-packages\\seaborn\\_oldcore.py:1119: FutureWarning: use_inf_as_na option is deprecated and will be removed in a future version. Convert inf values to NaN before operating instead.\n",
      "  with pd.option_context('mode.use_inf_as_na', True):\n",
      "C:\\Users\\MOITRYEE\\AppData\\Local\\anaconda3\\python\\lib\\site-packages\\seaborn\\categorical.py:3544: UserWarning: 9.3% of the points cannot be placed; you may want to decrease the size of the markers or use stripplot.\n",
      "  warnings.warn(msg, UserWarning)\n"
     ]
    },
    {
     "data": {
      "text/plain": [
       "<Axes: xlabel='category', ylabel='HighPrice'>"
      ]
     },
     "execution_count": 130,
     "metadata": {},
     "output_type": "execute_result"
    },
    {
     "name": "stderr",
     "output_type": "stream",
     "text": [
      "C:\\Users\\MOITRYEE\\AppData\\Local\\anaconda3\\python\\lib\\site-packages\\seaborn\\categorical.py:3544: UserWarning: 23.3% of the points cannot be placed; you may want to decrease the size of the markers or use stripplot.\n",
      "  warnings.warn(msg, UserWarning)\n"
     ]
    },
    {
     "data": {
      "image/png": "[encoded data removed]",
      "text/plain": [
       "<Figure size 640x480 with 1 Axes>"
      ]
     },
     "metadata": {},
     "output_type": "display_data"
    }
   ],
   "source": [
    "sns.swarmplot(y=\"HighPrice\", x=\"category\",data=data,size=8, color= \"green\")\n",
    "#all most at all high prices very high that is ranges of 100000-300000 volumes have been bought"
   ]
  },
  {
   "cell_type": "code",
   "execution_count": 131,
   "id": "b77fdcad",
   "metadata": {},
   "outputs": [
    {
     "name": "stderr",
     "output_type": "stream",
     "text": [
      "C:\\Users\\MOITRYEE\\AppData\\Local\\Temp\\ipykernel_11076\\1792065111.py:2: FutureWarning: The default of observed=False is deprecated and will be changed to True in a future version of pandas. Pass observed=False to retain current behavior or observed=True to adopt the future default and silence this warning.\n",
      "  grouped=data.groupby(\"category\")\n"
     ]
    }
   ],
   "source": [
    "## analysis with help of groupby function\n",
    "grouped=data.groupby(\"category\")"
   ]
  },
  {
   "cell_type": "code",
   "execution_count": 132,
   "id": "df2c06e2",
   "metadata": {},
   "outputs": [
    {
     "data": {
      "text/html": [
       "<div>\n",
       "<style scoped>\n",
       "    .dataframe tbody tr th:only-of-type {\n",
       "        vertical-align: middle;\n",
       "    }\n",
       "\n",
       "    .dataframe tbody tr th {\n",
       "        vertical-align: top;\n",
       "    }\n",
       "\n",
       "    .dataframe thead th {\n",
       "        text-align: right;\n",
       "    }\n",
       "</style>\n",
       "<table border=\"1\" class=\"dataframe\">\n",
       "  <thead>\n",
       "    <tr style=\"text-align: right;\">\n",
       "      <th></th>\n",
       "      <th>OpenPrice</th>\n",
       "      <th>HighPrice</th>\n",
       "      <th>LowPrice</th>\n",
       "      <th>ClosePrice</th>\n",
       "    </tr>\n",
       "    <tr>\n",
       "      <th>category</th>\n",
       "      <th></th>\n",
       "      <th></th>\n",
       "      <th></th>\n",
       "      <th></th>\n",
       "    </tr>\n",
       "  </thead>\n",
       "  <tbody>\n",
       "    <tr>\n",
       "      <th>Low</th>\n",
       "      <td>0</td>\n",
       "      <td>0</td>\n",
       "      <td>0</td>\n",
       "      <td>0</td>\n",
       "    </tr>\n",
       "    <tr>\n",
       "      <th>Medium Low</th>\n",
       "      <td>43</td>\n",
       "      <td>43</td>\n",
       "      <td>43</td>\n",
       "      <td>43</td>\n",
       "    </tr>\n",
       "    <tr>\n",
       "      <th>Medium High</th>\n",
       "      <td>1</td>\n",
       "      <td>1</td>\n",
       "      <td>1</td>\n",
       "      <td>1</td>\n",
       "    </tr>\n",
       "    <tr>\n",
       "      <th>High</th>\n",
       "      <td>13</td>\n",
       "      <td>13</td>\n",
       "      <td>13</td>\n",
       "      <td>13</td>\n",
       "    </tr>\n",
       "    <tr>\n",
       "      <th>VeryHigh</th>\n",
       "      <td>41</td>\n",
       "      <td>41</td>\n",
       "      <td>41</td>\n",
       "      <td>41</td>\n",
       "    </tr>\n",
       "  </tbody>\n",
       "</table>\n",
       "</div>"
      ],
      "text/plain": [
       "             OpenPrice  HighPrice  LowPrice  ClosePrice\n",
       "category                                               \n",
       "Low                  0          0         0           0\n",
       "Medium Low          43         43        43          43\n",
       "Medium High          1          1         1           1\n",
       "High                13         13        13          13\n",
       "VeryHigh            41         41        41          41"
      ]
     },
     "execution_count": 132,
     "metadata": {},
     "output_type": "execute_result"
    }
   ],
   "source": [
    "grouped.count()\n",
    "## majority of times median low and veryhigh are coming"
   ]
  },
  {
   "cell_type": "code",
   "execution_count": 133,
   "id": "49f413dc",
   "metadata": {},
   "outputs": [
    {
     "data": {
      "text/html": [
       "<div>\n",
       "<style scoped>\n",
       "    .dataframe tbody tr th:only-of-type {\n",
       "        vertical-align: middle;\n",
       "    }\n",
       "\n",
       "    .dataframe tbody tr th {\n",
       "        vertical-align: top;\n",
       "    }\n",
       "\n",
       "    .dataframe thead th {\n",
       "        text-align: right;\n",
       "    }\n",
       "</style>\n",
       "<table border=\"1\" class=\"dataframe\">\n",
       "  <thead>\n",
       "    <tr style=\"text-align: right;\">\n",
       "      <th></th>\n",
       "      <th>OpenPrice</th>\n",
       "      <th>HighPrice</th>\n",
       "      <th>LowPrice</th>\n",
       "      <th>ClosePrice</th>\n",
       "    </tr>\n",
       "    <tr>\n",
       "      <th>category</th>\n",
       "      <th></th>\n",
       "      <th></th>\n",
       "      <th></th>\n",
       "      <th></th>\n",
       "    </tr>\n",
       "  </thead>\n",
       "  <tbody>\n",
       "    <tr>\n",
       "      <th>Low</th>\n",
       "      <td>NaN</td>\n",
       "      <td>NaN</td>\n",
       "      <td>NaN</td>\n",
       "      <td>NaN</td>\n",
       "    </tr>\n",
       "    <tr>\n",
       "      <th>Medium Low</th>\n",
       "      <td>403.842233</td>\n",
       "      <td>404.021628</td>\n",
       "      <td>403.622349</td>\n",
       "      <td>403.831744</td>\n",
       "    </tr>\n",
       "    <tr>\n",
       "      <th>Medium High</th>\n",
       "      <td>403.970000</td>\n",
       "      <td>403.990000</td>\n",
       "      <td>403.920000</td>\n",
       "      <td>403.950000</td>\n",
       "    </tr>\n",
       "    <tr>\n",
       "      <th>High</th>\n",
       "      <td>403.773846</td>\n",
       "      <td>403.981538</td>\n",
       "      <td>403.635231</td>\n",
       "      <td>403.777308</td>\n",
       "    </tr>\n",
       "    <tr>\n",
       "      <th>VeryHigh</th>\n",
       "      <td>403.868902</td>\n",
       "      <td>404.097415</td>\n",
       "      <td>403.594024</td>\n",
       "      <td>403.838585</td>\n",
       "    </tr>\n",
       "  </tbody>\n",
       "</table>\n",
       "</div>"
      ],
      "text/plain": [
       "              OpenPrice   HighPrice    LowPrice  ClosePrice\n",
       "category                                                   \n",
       "Low                 NaN         NaN         NaN         NaN\n",
       "Medium Low   403.842233  404.021628  403.622349  403.831744\n",
       "Medium High  403.970000  403.990000  403.920000  403.950000\n",
       "High         403.773846  403.981538  403.635231  403.777308\n",
       "VeryHigh     403.868902  404.097415  403.594024  403.838585"
      ]
     },
     "execution_count": 133,
     "metadata": {},
     "output_type": "execute_result"
    }
   ],
   "source": [
    "grouped.mean()\n",
    "## in all cases mean are is near to 403-404"
   ]
  },
  {
   "cell_type": "code",
   "execution_count": 134,
   "id": "75195bd7",
   "metadata": {},
   "outputs": [
    {
     "data": {
      "text/html": [
       "<div>\n",
       "<style scoped>\n",
       "    .dataframe tbody tr th:only-of-type {\n",
       "        vertical-align: middle;\n",
       "    }\n",
       "\n",
       "    .dataframe tbody tr th {\n",
       "        vertical-align: top;\n",
       "    }\n",
       "\n",
       "    .dataframe thead th {\n",
       "        text-align: right;\n",
       "    }\n",
       "</style>\n",
       "<table border=\"1\" class=\"dataframe\">\n",
       "  <thead>\n",
       "    <tr style=\"text-align: right;\">\n",
       "      <th></th>\n",
       "      <th>OpenPrice</th>\n",
       "      <th>HighPrice</th>\n",
       "      <th>LowPrice</th>\n",
       "      <th>ClosePrice</th>\n",
       "    </tr>\n",
       "    <tr>\n",
       "      <th>category</th>\n",
       "      <th></th>\n",
       "      <th></th>\n",
       "      <th></th>\n",
       "      <th></th>\n",
       "    </tr>\n",
       "  </thead>\n",
       "  <tbody>\n",
       "    <tr>\n",
       "      <th>Low</th>\n",
       "      <td>NaN</td>\n",
       "      <td>NaN</td>\n",
       "      <td>NaN</td>\n",
       "      <td>NaN</td>\n",
       "    </tr>\n",
       "    <tr>\n",
       "      <th>Medium Low</th>\n",
       "      <td>0.286724</td>\n",
       "      <td>0.484146</td>\n",
       "      <td>0.856934</td>\n",
       "      <td>0.298271</td>\n",
       "    </tr>\n",
       "    <tr>\n",
       "      <th>Medium High</th>\n",
       "      <td>NaN</td>\n",
       "      <td>NaN</td>\n",
       "      <td>NaN</td>\n",
       "      <td>NaN</td>\n",
       "    </tr>\n",
       "    <tr>\n",
       "      <th>High</th>\n",
       "      <td>0.641139</td>\n",
       "      <td>0.608863</td>\n",
       "      <td>0.660797</td>\n",
       "      <td>0.666742</td>\n",
       "    </tr>\n",
       "    <tr>\n",
       "      <th>VeryHigh</th>\n",
       "      <td>0.979596</td>\n",
       "      <td>0.991063</td>\n",
       "      <td>0.953242</td>\n",
       "      <td>0.967947</td>\n",
       "    </tr>\n",
       "  </tbody>\n",
       "</table>\n",
       "</div>"
      ],
      "text/plain": [
       "             OpenPrice  HighPrice  LowPrice  ClosePrice\n",
       "category                                               \n",
       "Low                NaN        NaN       NaN         NaN\n",
       "Medium Low    0.286724   0.484146  0.856934    0.298271\n",
       "Medium High        NaN        NaN       NaN         NaN\n",
       "High          0.641139   0.608863  0.660797    0.666742\n",
       "VeryHigh      0.979596   0.991063  0.953242    0.967947"
      ]
     },
     "execution_count": 134,
     "metadata": {},
     "output_type": "execute_result"
    }
   ],
   "source": [
    "grouped.std()\n",
    "## with negligible standered deviation"
   ]
  },
  {
   "cell_type": "code",
   "execution_count": null,
   "id": "9ccbb3ac",
   "metadata": {},
   "outputs": [],
   "source": []
  }
 ],
 "metadata": {
  "kernelspec": {
   "display_name": "Python 3 (ipykernel)",
   "language": "python",
   "name": "python3"
  },
  "language_info": {
   "codemirror_mode": {
    "name": "ipython",
    "version": 3
   },
   "file_extension": ".py",
   "mimetype": "text/x-python",
   "name": "python",
   "nbconvert_exporter": "python",
   "pygments_lexer": "ipython3",
   "version": "3.10.9"
  }
 },
 "nbformat": 4,
 "nbformat_minor": 5
}
